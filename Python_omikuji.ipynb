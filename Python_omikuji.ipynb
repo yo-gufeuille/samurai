{
  "nbformat": 4,
  "nbformat_minor": 0,
  "metadata": {
    "colab": {
      "provenance": [],
      "authorship_tag": "ABX9TyO/Dy4NCzEIoAqhDCRjRwSO",
      "include_colab_link": true
    },
    "kernelspec": {
      "name": "python3",
      "display_name": "Python 3"
    },
    "language_info": {
      "name": "python"
    }
  },
  "cells": [
    {
      "cell_type": "markdown",
      "metadata": {
        "id": "view-in-github",
        "colab_type": "text"
      },
      "source": [
        "<a href=\"https://colab.research.google.com/github/yo-gufeuille/samurai/blob/main/Python_omikuji.ipynb\" target=\"_parent\"><img src=\"https://colab.research.google.com/assets/colab-badge.svg\" alt=\"Open In Colab\"/></a>"
      ]
    },
    {
      "cell_type": "code",
      "execution_count": null,
      "metadata": {
        "id": "EXu-9WIavIZ4"
      },
      "outputs": [],
      "source": [
        "import random\n",
        "\n",
        "num = random.randint(0, 4)\n",
        "\n",
        "print(num)\n",
        "\n",
        "if num == 0:\n",
        "    print(\"大当たり\")\n",
        "elif num == 1:\n",
        "    print(\"当たり\")\n",
        "else:\n",
        "    print(\"はずれ\")"
      ]
    }
  ]
}