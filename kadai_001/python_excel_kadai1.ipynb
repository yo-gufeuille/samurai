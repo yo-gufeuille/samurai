{
  "nbformat": 4,
  "nbformat_minor": 0,
  "metadata": {
    "colab": {
      "provenance": []
    },
    "kernelspec": {
      "name": "python3",
      "display_name": "Python 3"
    },
    "language_info": {
      "name": "python"
    }
  },
  "cells": [
    {
      "cell_type": "code",
      "execution_count": 1,
      "metadata": {
        "id": "cYE7d6CzOgw8"
      },
      "outputs": [],
      "source": [
        "import openpyxl\n",
        "\n",
        "workbook = openpyxl.Workbook()\n",
        "\n",
        "worksheet = workbook.active\n",
        "\n",
        "worksheet[\"A2\"] = \"請求書\"\n",
        "worksheet[\"A4\"] = \"株式会社ABC\"\n",
        "worksheet[\"A5\"] = \"〒101-0022 東京都千代田区神田練塀町300\"\n",
        "worksheet[\"A6\"] = \"TEL:03-1234-5678 FAX:03-1234-5678\"\n",
        "worksheet[\"A7\"] = \"担当者名:鈴木一郎 様\"\n",
        "worksheet[\"E4\"] = \"No.\"\n",
        "worksheet[\"E5\"] = \"日付\"\n",
        "worksheet[\"F4\"] = \"0001\"\n",
        "\n",
        "from datetime import datetime\n",
        "today = datetime.today()\n",
        "worksheet['F5'] = today.strftime('%Y/%m/%d')\n",
        "\n",
        "header = ['商品名', '数量', '単価', '金額']\n",
        "worksheet.append(header)\n",
        "\n",
        "data = [\n",
        "    ['商品A', 2, 10000, 20000],\n",
        "    ['商品B', 1, 15000, 15000],\n",
        "    ['','','',35000],\n",
        "    ['','','',''],\n",
        "    [\"合計\",\"\",\"\",35000],\n",
        "    [\"消費税\",\"\",\"\",3500],\n",
        "    [\"税込み合計\",\"\",\"\",38500]\n",
        "]\n",
        "\n",
        "for row in data:\n",
        "    worksheet.append(row)\n",
        "\n",
        "worksheet.insert_rows(8, 2)\n",
        "worksheet.insert_cols(1, 1)\n",
        "\n",
        "workbook.save('請求書_20250109.xlsx')"
      ]
    }
  ]
}