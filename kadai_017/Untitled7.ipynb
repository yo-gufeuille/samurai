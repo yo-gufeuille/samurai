{
  "nbformat": 4,
  "nbformat_minor": 0,
  "metadata": {
    "colab": {
      "provenance": []
    },
    "kernelspec": {
      "name": "python3",
      "display_name": "Python 3"
    },
    "language_info": {
      "name": "python"
    }
  },
  "cells": [
    {
      "cell_type": "code",
      "execution_count": 1,
      "metadata": {
        "colab": {
          "base_uri": "https://localhost:8080/"
        },
        "id": "-3DfU8gI5to6",
        "outputId": "dbc41d38-7da1-418f-cb24-43697bd40e8e"
      },
      "outputs": [
        {
          "output_type": "stream",
          "name": "stdout",
          "text": [
            "侍太郎さんは大人ではありません。\n"
          ]
        }
      ],
      "source": [
        "class Human:\n",
        "  def __init__(self, name, age):\n",
        "   self.name = name\n",
        "   self.age = age\n",
        "\n",
        "  def check_adult(self):\n",
        "   if self.age >= 20:\n",
        "    print(f\"{self.name}さんは大人です。\")\n",
        "   else:\n",
        "    print(f\"{self.name}さんは大人ではありません。\")\n",
        "\n",
        "human = Human(\"侍太郎\", 19)\n",
        "\n",
        "human.check_adult()"
      ]
    }
  ]
}