{
  "nbformat": 4,
  "nbformat_minor": 0,
  "metadata": {
    "colab": {
      "provenance": []
    },
    "kernelspec": {
      "name": "python3",
      "display_name": "Python 3"
    },
    "language_info": {
      "name": "python"
    }
  },
  "cells": [
    {
      "cell_type": "code",
      "execution_count": 1,
      "metadata": {
        "colab": {
          "base_uri": "https://localhost:8080/"
        },
        "id": "-3DfU8gI5to6",
        "outputId": "76f715e2-76dd-4125-8108-c3307dbcd252"
      },
      "outputs": [
        {
          "output_type": "stream",
          "name": "stdout",
          "text": [
            "侍太郎さんは大人です。\n",
            "侍二郎さんは大人です。\n",
            "侍三郎さんは大人ではありません。\n"
          ]
        }
      ],
      "source": [
        "name_dict = {\"侍太郎\": 30, \"侍二郎\": 20, \"侍三郎\": 10}\n",
        "\n",
        "class Human:\n",
        "  def __init__(self, name, age):\n",
        "   self.name = name\n",
        "   self.age = age\n",
        "\n",
        "  def check_adult(self):\n",
        "   if self.age >= 20:\n",
        "      print(f\"{self.name}さんは大人です。\")\n",
        "   else:\n",
        "      print(f\"{self.name}さんは大人ではありません。\")\n",
        "\n",
        "humans_list = []\n",
        "\n",
        "for name, age in name_dict.items():\n",
        "  human = Human(name, age)\n",
        "  humans_list.append(human)\n",
        "\n",
        "for human in humans_list:\n",
        "    human.check_adult()"
      ]
    }
  ]
}