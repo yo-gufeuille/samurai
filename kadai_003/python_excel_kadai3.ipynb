{
  "nbformat": 4,
  "nbformat_minor": 0,
  "metadata": {
    "colab": {
      "provenance": []
    },
    "kernelspec": {
      "name": "python3",
      "display_name": "Python 3"
    },
    "language_info": {
      "name": "python"
    }
  },
  "cells": [
    {
      "cell_type": "code",
      "source": [
        "import pandas as pd\n",
        "from openpyxl import load_workbook\n",
        "from openpyxl.styles import PatternFill\n",
        "\n",
        "# Step 1: 2022年と2023年の年間売上表データを読み込み\n",
        "file_2022 = '2022_年間売上表.xlsx'\n",
        "file_2023 = '2023_年間売上表.xlsx'\n",
        "\n",
        "data_2022 = pd.read_excel(file_2022, sheet_name='Sheet1')\n",
        "data_2023 = pd.read_excel(file_2023, sheet_name='Sheet1')\n",
        "\n",
        "# Step 3: データの連結と集計\n",
        "# データを連結\n",
        "all_data = pd.concat([data_2022, data_2023])\n",
        "\n",
        "# \"商品\"と\"売上年\"ごとにグループ化し、金額を合計\n",
        "summary = all_data.groupby(['商品', '売上年'], as_index=False)['金額（千円）'].sum()\n",
        "\n",
        "# Step 4: 新規Excelファイルに書き込み\n",
        "output_file = '売上集計表.xlsx'\n",
        "summary.to_excel(output_file, index=False, sheet_name='集計')\n",
        "\n",
        "# OpenPyXLを使ったヘッダーの書式変更\n",
        "wb = load_workbook(output_file)\n",
        "ws = wb['集計']\n",
        "\n",
        "# ヘッダー部分を薄いグレーに設定\n",
        "header_fill = PatternFill(start_color='F2F2F2', end_color='F2F2F2', fill_type='solid')\n",
        "for cell in ws[1]:\n",
        "    cell.fill = header_fill\n",
        "\n",
        "# 保存\n",
        "wb.save(output_file)"
      ],
      "metadata": {
        "id": "tuVBCN-4FUKB"
      },
      "execution_count": 4,
      "outputs": []
    }
  ]
}