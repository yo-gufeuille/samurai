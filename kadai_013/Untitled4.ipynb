{
  "nbformat": 4,
  "nbformat_minor": 0,
  "metadata": {
    "colab": {
      "provenance": []
    },
    "kernelspec": {
      "name": "python3",
      "display_name": "Python 3"
    },
    "language_info": {
      "name": "python"
    }
  },
  "cells": [
    {
      "cell_type": "code",
      "execution_count": 1,
      "metadata": {
        "id": "2dvttbIeLuCy",
        "outputId": "3ed32055-b5ab-43e6-c36b-fa50bcb13d4c",
        "colab": {
          "base_uri": "https://localhost:8080/"
        }
      },
      "outputs": [
        {
          "output_type": "stream",
          "name": "stdout",
          "text": [
            "1320.0円\n"
          ]
        }
      ],
      "source": [
        "def add_tax(price, shipping_tax):\n",
        "\n",
        "  total = price + price * shipping_tax\n",
        "\n",
        "  return total\n",
        "\n",
        "total = add_tax(1200, 0.1)\n",
        "\n",
        "print(f\"{total}円\")"
      ]
    }
  ]
}