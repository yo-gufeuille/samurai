{
  "nbformat": 4,
  "nbformat_minor": 0,
  "metadata": {
    "colab": {
      "provenance": []
    },
    "kernelspec": {
      "name": "python3",
      "display_name": "Python 3"
    },
    "language_info": {
      "name": "python"
    }
  },
  "cells": [
    {
      "cell_type": "code",
      "execution_count": 1,
      "metadata": {
        "colab": {
          "base_uri": "https://localhost:8080/"
        },
        "id": "sDz2o4XCcPSH",
        "outputId": "4745df04-0a84-4c07-cbe8-0c4ff330ae08"
      },
      "outputs": [
        {
          "output_type": "stream",
          "name": "stdout",
          "text": [
            "320.0\n"
          ]
        }
      ],
      "source": [
        "def total():\n",
        "\n",
        " price1 = 100\n",
        "\n",
        " price2 = 200\n",
        "\n",
        " tax = 1.1\n",
        "\n",
        " sum = price1 + price2 * tax\n",
        "\n",
        " return sum\n",
        "\n",
        "total()\n",
        "\n",
        "print(total())"
      ]
    }
  ]
}